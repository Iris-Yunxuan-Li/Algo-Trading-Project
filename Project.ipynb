{
 "cells": [
  {
   "cell_type": "markdown",
   "id": "d1fb7dd6-157c-4976-8832-08402c3644ce",
   "metadata": {},
   "source": [
    "# Algo trading project\n"
   ]
  },
  {
   "cell_type": "code",
   "execution_count": null,
   "id": "02719fb6-8da1-4c9c-85dd-a5bb11d122fe",
   "metadata": {
    "scrolled": true
   },
   "outputs": [],
   "source": [
    "!pip3 install alpaca-trade-api"
   ]
  },
  {
   "cell_type": "markdown",
   "id": "2ba85e77-8b4d-40f7-8f9d-4886e4063512",
   "metadata": {},
   "source": [
    "## Initialization"
   ]
  },
  {
   "cell_type": "code",
   "execution_count": null,
   "id": "586f3f5f-f3a9-4056-9827-7788d14df09b",
   "metadata": {},
   "outputs": [],
   "source": [
    "from alpaca.data.timeframe import TimeFrame\n",
    "from alpaca.data.requests import StockBarsRequest\n",
    "from alpaca.data.historical import StockHistoricalDataClient# Create stock historical data client\n",
    "import pandas as pd\n",
    "import os\n",
    "\n",
    "# Set API key and secret\n",
    "api_key = 'your_api_key'\n",
    "api_secret = 'your_api_secret'\n",
    "\n",
    "# Initialize trading client for live trading (using paper trading mode)\n",
    "from alpaca.trading.client import TradingClient\n",
    "from alpaca.trading.requests import MarketOrderRequest, StopLossOrderRequest\n",
    "from alpaca.trading.enums import OrderSide, TimeInForce\n",
    "from time import sleep\n",
    "\n",
    "trading_client = TradingClient(api_key, api_secret, paper=True)"
   ]
  },
  {
   "cell_type": "markdown",
   "id": "e71c09d3-0d08-4e13-b945-7d3fc2d5f0d8",
   "metadata": {},
   "source": [
    "## Define backtesting strategy"
   ]
  },
  {
   "cell_type": "code",
   "execution_count": null,
   "id": "09a3f799-8ad2-4d26-9ad9-036a5e2b71f0",
   "metadata": {},
   "outputs": [],
   "source": [
    "# Helper function to simulate trading for backtesting\n",
    "def backtest_strategy(historical_data, short_window=50, long_window=200):\n",
    "    historical_data['short_ma'] = historical_data['close'].rolling(window=short_window).mean()\n",
    "    historical_data['long_ma'] = historical_data['close'].rolling(window=long_window).mean()\n",
    "    \n",
    "    buy_price = None\n",
    "    total_profit = 0\n",
    "    trades = []\n",
    "\n",
    "    for index, row in historical_data.iterrows():\n",
    "        short_ma = row['short_ma']\n",
    "        long_ma = row['long_ma']\n",
    "        current_price = row['close']\n",
    "\n",
    "        # Check if short MA crosses above long MA (buy signal)\n",
    "        if short_ma > long_ma and buy_price is None:\n",
    "            buy_price = current_price\n",
    "            print(f\"Simulated Buy at: {buy_price}\")\n",
    "        \n",
    "        # Check if short MA crosses below long MA (sell signal)\n",
    "        elif short_ma < long_ma and buy_price is not None:\n",
    "            profit = current_price - buy_price\n",
    "            total_profit += profit\n",
    "            trades.append(profit)\n",
    "            print(f\"Simulated Sell at: {current_price}, Profit: {profit}\")\n",
    "            buy_price = None  \n",
    "\n",
    "    return total_profit, trades"
   ]
  },
  {
   "cell_type": "markdown",
   "id": "31968391-3b6b-4c6e-aad6-16048a40eab8",
   "metadata": {},
   "source": [
    "## Load historical data"
   ]
  },
  {
   "cell_type": "code",
   "execution_count": null,
   "id": "006d3c3e-2039-41ab-913d-fd23acabdf1f",
   "metadata": {},
   "outputs": [],
   "source": [
    "# Load historical data for backtesting\n",
    "client = StockHistoricalDataClient(api_key, api_secret)\n",
    "request_params = StockBarsRequest(\n",
    "    symbol_or_symbols=[\"TSLA\"],\n",
    "    timeframe=TimeFrame.Day,\n",
    "    start=\"2023-01-01 00:00:00\",\n",
    "    end=\"2023-06-01 00:00:00\"\n",
    ")\n",
    "historical_data = client.get_stock_bars(request_params).df\n",
    "print(historical_data.tail())"
   ]
  },
  {
   "cell_type": "markdown",
   "id": "a23cca8d-ab8e-40f3-b8fd-4a846e10f515",
   "metadata": {},
   "source": [
    "## Backtest the strategy"
   ]
  },
  {
   "cell_type": "code",
   "execution_count": null,
   "id": "bf22f377-0a84-4708-b527-3b00c76de327",
   "metadata": {},
   "outputs": [],
   "source": [
    "total_profit, trades = backtest_strategy(historical_data)\n",
    "print(f\"Total Profit from Backtesting: {total_profit}\")\n",
    "print(f\"Individual Trades: {trades}\")"
   ]
  },
  {
   "cell_type": "markdown",
   "id": "c23615ae-2649-4d30-8eb9-a03926ef7fba",
   "metadata": {},
   "source": [
    "# Live paper trading"
   ]
  },
  {
   "cell_type": "code",
   "execution_count": null,
   "id": "85c30694-4a19-4a79-84d3-5af7711d4d61",
   "metadata": {},
   "outputs": [],
   "source": [
    "# Define parameters\n",
    "symbol = \"TSLA\"\n",
    "short_window = 50\n",
    "long_window = 200\n",
    "buy_qty = 10\n",
    "\n",
    "# Initialize performance tracking\n",
    "trade_log = []\n",
    "total_profit = 0\n",
    "total_trades = 0\n",
    "\n",
    "def log_trade(order, trade_type, price):\n",
    "    global total_profit, total_trades\n",
    "    if trade_type == 'buy':\n",
    "        trade_log.append({\n",
    "            'type': 'buy',\n",
    "            'price': price,\n",
    "            'timestamp': pd.Timestamp.now()\n",
    "        })\n",
    "    elif trade_type == 'sell':\n",
    "        last_trade = next((t for t in reversed(trade_log) if t['type'] == 'buy'), None)\n",
    "        if last_trade:\n",
    "            profit = price - last_trade['price']\n",
    "            total_profit += profit\n",
    "            total_trades += 1\n",
    "            trade_log.append({\n",
    "                'type': 'sell',\n",
    "                'price': price,\n",
    "                'timestamp': pd.Timestamp.now(),\n",
    "                'profit': profit\n",
    "            })\n",
    "            print(f\"Trade executed: Buy at {last_trade['price']}, Sell at {price}, Profit: {profit}\")\n",
    "\n",
    "def get_moving_averages():\n",
    "    request_params = StockBarsRequest(\n",
    "        symbol_or_symbols=[symbol],\n",
    "        timeframe=TimeFrame.Day,\n",
    "        start=\"2023-01-01 00:00:00\"\n",
    "    )\n",
    "    historical_data = client.get_stock_bars(request_params).df\n",
    "    historical_data['short_ma'] = historical_data['close'].rolling(window=short_window).mean()\n",
    "    historical_data['long_ma'] = historical_data['close'].rolling(window=long_window).mean()\n",
    "    return historical_data"
   ]
  },
  {
   "cell_type": "code",
   "execution_count": null,
   "id": "33f55f8b-2f49-42f9-a2d5-28c95ec1de5f",
   "metadata": {},
   "outputs": [],
   "source": [
    "def execute_trade():\n",
    "    historical_data_live = get_moving_averages()\n",
    "    last_row = historical_data_live.iloc[-1]\n",
    "    previous_row = historical_data_live.iloc[-2]\n",
    "\n",
    "    if last_row['short_ma'] > last_row['long_ma'] and previous_row['short_ma'] <= previous_row['long_ma']:\n",
    "        # Place a market buy order\n",
    "        market_order_data = MarketOrderRequest(\n",
    "            symbol=symbol,\n",
    "            qty=buy_qty,\n",
    "            side=OrderSide.BUY,\n",
    "            time_in_force=TimeInForce.GTC,\n",
    "        )\n",
    "        market_order = trading_client.submit_order(order_data=market_order_data)\n",
    "        buy_price = float(market_order.filled_avg_price)\n",
    "        print(f\"Market buy order placed at {buy_price}\")\n",
    "        log_trade(market_order, 'buy', buy_price)\n",
    "\n",
    "        # Set a stop-loss 5% below the buy price\n",
    "        stop_loss_price = buy_price * 0.95\n",
    "        stop_loss_order_data = StopLossOrderRequest(\n",
    "            symbol=symbol,\n",
    "            qty=buy_qty,\n",
    "            side=OrderSide.SELL,\n",
    "            stop_price=stop_loss_price,\n",
    "            time_in_force=TimeInForce.GTC\n",
    "        )\n",
    "        trading_client.submit_order(order_data=stop_loss_order_data)\n",
    "        print(f\"Stop-loss order placed at {stop_loss_price}\")\n",
    "\n",
    "    elif last_row['short_ma'] < last_row['long_ma'] and previous_row['short_ma'] >= previous_row['long_ma']:\n",
    "        # Place a market sell order (if in position)\n",
    "        market_order_data = MarketOrderRequest(\n",
    "            symbol=symbol,\n",
    "            qty=buy_qty,\n",
    "            side=OrderSide.SELL,\n",
    "            time_in_force=TimeInForce.GTC,\n",
    "        )\n",
    "        market_order = trading_client.submit_order(order_data=market_order_data)\n",
    "        sell_price = float(market_order.filled_avg_price)\n",
    "        print(f\"Market sell order placed at {sell_price}\")\n",
    "        log_trade(market_order, 'sell', sell_price)"
   ]
  },
  {
   "cell_type": "code",
   "execution_count": null,
   "id": "518e73d1-cd5b-4576-9492-e71f0995b362",
   "metadata": {},
   "outputs": [],
   "source": [
    "# Monitor live price updates and adjust positions\n",
    "while True:\n",
    "    try:\n",
    "        execute_trade()\n",
    "        # Print performance metrics\n",
    "        print(f\"Total Trades: {total_trades}, Total Profit: {total_profit}\")\n",
    "        sleep(60)  # Wait 1 minute before the next iteration\n",
    "    except Exception as e:\n",
    "        print(f\"An error occurred: {e}\")"
   ]
  },
  {
   "cell_type": "code",
   "execution_count": null,
   "id": "7ef4a80c-12fd-461f-8749-a337ed855964",
   "metadata": {},
   "outputs": [],
   "source": []
  }
 ],
 "metadata": {
  "kernelspec": {
   "display_name": "Python 3 (ipykernel)",
   "language": "python",
   "name": "python3"
  },
  "language_info": {
   "codemirror_mode": {
    "name": "ipython",
    "version": 3
   },
   "file_extension": ".py",
   "mimetype": "text/x-python",
   "name": "python",
   "nbconvert_exporter": "python",
   "pygments_lexer": "ipython3",
   "version": "3.9.6"
  }
 },
 "nbformat": 4,
 "nbformat_minor": 5
}
