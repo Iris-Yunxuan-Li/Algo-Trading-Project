{
  "cells": [
    {
      "cell_type": "markdown",
      "id": "d1fb7dd6-157c-4976-8832-08402c3644ce",
      "metadata": {
        "id": "d1fb7dd6-157c-4976-8832-08402c3644ce"
      },
      "source": [
        "# Algo trading project\n"
      ]
    },
    {
      "cell_type": "code",
      "execution_count": null,
      "id": "02719fb6-8da1-4c9c-85dd-a5bb11d122fe",
      "metadata": {
        "scrolled": true,
        "id": "02719fb6-8da1-4c9c-85dd-a5bb11d122fe"
      },
      "outputs": [],
      "source": [
        "!pip3 install alpaca-trade-api"
      ]
    },
    {
      "cell_type": "markdown",
      "id": "2ba85e77-8b4d-40f7-8f9d-4886e4063512",
      "metadata": {
        "id": "2ba85e77-8b4d-40f7-8f9d-4886e4063512"
      },
      "source": [
        "## Initialization"
      ]
    },
    {
      "cell_type": "code",
      "execution_count": null,
      "id": "586f3f5f-f3a9-4056-9827-7788d14df09b",
      "metadata": {
        "id": "586f3f5f-f3a9-4056-9827-7788d14df09b"
      },
      "outputs": [],
      "source": [
        "from alpaca.data.timeframe import TimeFrame\n",
        "from alpaca.data.requests import StockBarsRequest\n",
        "from alpaca.data.historical import StockHistoricalDataClient# Create stock historical data client\n",
        "import pandas as pd\n",
        "import os\n",
        "import numpy as np\n",
        "import matplotlib.pyplot as plt\n",
        "\n",
        "# Set API key and secret\n",
        "api_key = 'your_api_key'\n",
        "api_secret = 'your_api_secret'\n",
        "\n",
        "# Initialize trading client for live trading (using paper trading mode)\n",
        "from alpaca.trading.client import TradingClient\n",
        "from alpaca.trading.requests import MarketOrderRequest, StopLossOrderRequest\n",
        "from alpaca.trading.enums import OrderSide, TimeInForce\n",
        "from time import sleep\n",
        "\n",
        "trading_client = TradingClient(api_key, api_secret, paper=True)"
      ]
    },
    {
      "cell_type": "markdown",
      "id": "31968391-3b6b-4c6e-aad6-16048a40eab8",
      "metadata": {
        "id": "31968391-3b6b-4c6e-aad6-16048a40eab8"
      },
      "source": [
        "## Load historical data"
      ]
    },
    {
      "cell_type": "code",
      "execution_count": 25,
      "id": "006d3c3e-2039-41ab-913d-fd23acabdf1f",
      "metadata": {
        "id": "006d3c3e-2039-41ab-913d-fd23acabdf1f",
        "colab": {
          "base_uri": "https://localhost:8080/"
        },
        "outputId": "60f66f67-5a41-4998-e65c-473d21b7389f"
      },
      "outputs": [
        {
          "output_type": "stream",
          "name": "stderr",
          "text": [
            "\r[*********************100%***********************]  1 of 1 completed\n"
          ]
        },
        {
          "output_type": "execute_result",
          "data": {
            "text/plain": [
              "MultiIndex([('Adj Close', 'TSLA'),\n",
              "            (    'Close', 'TSLA'),\n",
              "            (     'High', 'TSLA'),\n",
              "            (      'Low', 'TSLA'),\n",
              "            (     'Open', 'TSLA'),\n",
              "            (   'Volume', 'TSLA')],\n",
              "           names=['Price', 'Ticker'])"
            ]
          },
          "metadata": {},
          "execution_count": 25
        }
      ],
      "source": [
        "# # Load historical data for backtesting\n",
        "# client = StockHistoricalDataClient(api_key, api_secret)\n",
        "# request_params = StockBarsRequest(\n",
        "#     symbol_or_symbols=[\"TSLA\"],\n",
        "#     timeframe=TimeFrame.Day,\n",
        "#     start=\"2015-01-01 00:00:00\",\n",
        "#     end=\"2023-06-01 00:00:00\"\n",
        "# )\n",
        "# historical_data = client.get_stock_bars(request_params).df\n",
        "# print(historical_data.tail())\n",
        "import pandas as pd\n",
        "import os\n",
        "import numpy as np\n",
        "import matplotlib.pyplot as plt\n",
        "from time import sleep\n",
        "import yfinance as yf\n",
        "import pandas as pd\n",
        "\n",
        "symbol = \"TSLA\"\n",
        "start_date = \"2016-01-01\"\n",
        "end_date = \"2024-01-01\"\n",
        "timeframe = \"1d\"\n",
        "\n",
        "historical_data = yf.download(symbol, start=start_date, end=end_date, interval=timeframe)\n",
        "historical_data.columns"
      ]
    },
    {
      "cell_type": "markdown",
      "id": "e71c09d3-0d08-4e13-b945-7d3fc2d5f0d8",
      "metadata": {
        "id": "e71c09d3-0d08-4e13-b945-7d3fc2d5f0d8"
      },
      "source": [
        "## Define strategy and backtesting methods"
      ]
    },
    {
      "cell_type": "code",
      "source": [
        "def moving_average_strategy(data, short_window, long_window):\n",
        "    # Calculate moving averages\n",
        "    data['short_mavg'] = data['Close', 'TSLA'].rolling(window=short_window, min_periods=1, center=False).mean()\n",
        "    data['long_mavg'] = data['Close', 'TSLA'].rolling(window=long_window, min_periods=1, center=False).mean()\n",
        "\n",
        "    # Create trading signals (1 for buy, -1 for sell, 0 for hold)\n",
        "    data['signal'] = np.where(data['short_mavg'] > data['long_mavg'], 1.0, 0.0)\n",
        "    data['signal'] = np.where(data['short_mavg'] < data['long_mavg'], -1.0, data['signal'])\n",
        "\n",
        "    # Ensure the result is a Series by selecting the appropriate column if needed\n",
        "    # If 'signal' or 'Close' are DataFrames, select the relevant column for calculation\n",
        "    signal_column = data['signal'] if isinstance(data['signal'], pd.Series) else data['signal'].iloc[:, 0]\n",
        "    close_column = data['Close'] if isinstance(data['Close'], pd.Series) else data['Close'].iloc[:, 0]\n",
        "\n",
        "    data['strategy_return'] = (signal_column.shift(1) * close_column.pct_change()).fillna(0)\n",
        "\n",
        "    return data\n",
        "\n",
        "aug_data = moving_average_strategy(historical_data, 50, 200)['strategy_return']\n",
        "plt.figure(figsize=(10, 5))\n",
        "plt.plot(aug_data.index, aug_data, label='Strategy Return')\n",
        "plt.title('Strategy Return Over Time')\n",
        "plt.xlabel('Date')\n",
        "plt.ylabel('Return')\n",
        "plt.legend()\n",
        "plt.show()"
      ],
      "metadata": {
        "id": "-z0002U8A5qa",
        "colab": {
          "base_uri": "https://localhost:8080/",
          "height": 487
        },
        "outputId": "d0b4460a-890f-4100-f925-ad102158ce3d"
      },
      "id": "-z0002U8A5qa",
      "execution_count": 68,
      "outputs": [
        {
          "output_type": "display_data",
          "data": {
            "text/plain": [
              "<Figure size 1000x500 with 1 Axes>"
            ],
            "image/png": "[encoded data removed]"
          },
          "metadata": {}
        }
      ]
    },
    {
      "cell_type": "code",
      "source": [
        "def monte_carlo_simulation(data, short_window, long_window, num_simulations=1000):\n",
        "    simulation_results = []\n",
        "\n",
        "    for _ in range(num_simulations):\n",
        "        simulated_data = data.copy()\n",
        "        simulated_data['Close', 'TSLA'] *= (1 + np.random.normal(0, 0.01, len(simulated_data)))  # Add random noise\n",
        "\n",
        "        strategy_simulated = moving_average_strategy(simulated_data, short_window, long_window)\n",
        "        strategy_returns = strategy_simulated['strategy_return'].dropna()\n",
        "\n",
        "        # cumulative return and max drawdown\n",
        "        cumulative_return = (1 + strategy_returns).prod() - 1\n",
        "        max_drawdown = calculate_max_drawdown(strategy_returns)\n",
        "\n",
        "        simulation_results.append((cumulative_return, max_drawdown))\n",
        "\n",
        "    return simulation_results"
      ],
      "metadata": {
        "id": "D37mCmphDyBj"
      },
      "id": "D37mCmphDyBj",
      "execution_count": 58,
      "outputs": []
    },
    {
      "cell_type": "code",
      "source": [
        "def calculate_sharpe_ratio(strategy_returns, risk_free_rate=0.02):\n",
        "    excess_returns = strategy_returns.mean() - risk_free_rate / 252  # Adjust for daily returns\n",
        "    std_dev = strategy_returns.std()\n",
        "\n",
        "    if std_dev == 0:\n",
        "        print(\"Warning: Standard deviation of strategy returns is zero. Setting Sharpe ratio to 0.\")\n",
        "        return 0\n",
        "\n",
        "    return excess_returns / std_dev\n",
        "\n",
        "\n",
        "def calculate_max_drawdown(strategy_returns):\n",
        "    cumulative_returns = (1 + strategy_returns).cumprod()\n",
        "    peak = cumulative_returns.cummax()\n",
        "    drawdown = (cumulative_returns - peak) / peak\n",
        "    max_drawdown = drawdown.min()\n",
        "    return max_drawdown"
      ],
      "metadata": {
        "id": "qpPdj0gXA53Q"
      },
      "id": "qpPdj0gXA53Q",
      "execution_count": 55,
      "outputs": []
    },
    {
      "cell_type": "code",
      "source": [
        "def walk_forward_testing(data, short_window_range, long_window_range, train_period, test_period):\n",
        "    best_param = None\n",
        "    best_score = -np.inf\n",
        "\n",
        "    for start in range(0, len(data) - train_period - test_period + 1, test_period):\n",
        "        train_data = data[start:start + train_period]\n",
        "        test_data = data[start + train_period:start + train_period + test_period]\n",
        "\n",
        "        best_sharpe = -np.inf\n",
        "        best_long_window = None\n",
        "        best_short_window = None\n",
        "\n",
        "        # Optimize parameters on training data\n",
        "        for short_window in short_window_range:\n",
        "            for long_window in long_window_range:\n",
        "                strategy_train = moving_average_strategy(train_data.copy(), short_window, long_window)\n",
        "                strategy_returns = strategy_train['strategy_return'].dropna()\n",
        "\n",
        "                # Check if strategy_returns is empty before calculating Sharpe ratio\n",
        "                if not strategy_returns.empty:\n",
        "                    sharpe_train = calculate_sharpe_ratio(strategy_returns)\n",
        "\n",
        "                    if sharpe_train > best_sharpe:\n",
        "                        best_sharpe = sharpe_train\n",
        "                        best_short_window = short_window\n",
        "                        best_long_window = long_window\n",
        "                else:\n",
        "                    # Handle case where strategy_returns is empty\n",
        "                    print(f\"Warning: Empty strategy returns for short_window={short_window}, long_window={long_window}. Skipping...\")\n",
        "                    continue\n",
        "\n",
        "        # Ensure best parameters are set before using them\n",
        "        if best_short_window is None or best_long_window is None:\n",
        "            print(\"Error: No suitable parameters found during optimization.\")\n",
        "            return None, None # Or raise an exception\n",
        "\n",
        "        # use the best parameters to evaluate on the test data\n",
        "        strategy_test = moving_average_strategy(test_data.copy(), best_short_window, best_long_window)\n",
        "        test_returns = strategy_test['strategy_return'].dropna()\n",
        "\n",
        "        # performance metrics for the test data\n",
        "        sharpe_test = calculate_sharpe_ratio(test_returns)\n",
        "        # max_drawdown_test = calculate_max_drawdown(test_returns)\n",
        "        # monte_carlo_results = monte_carlo_simulation(test_data, best_short_window, best_long_window)\n",
        "        # avg_cumulative_return = np.mean([result[0] for result in monte_carlo_results])\n",
        "        # avg_max_drawdown = np.mean([result[1] for result in monte_carlo_results])\n",
        "\n",
        "        # *****CHOOSE METRIC {sharp_test, max_drawdown_test, avg_cumulative_return, avg_max_drawdown}*****\n",
        "        score = sharpe_test\n",
        "\n",
        "        # Update best parameters\n",
        "        if score > best_score:\n",
        "            best_score = score\n",
        "            best_param = (best_short_window, best_long_window)\n",
        "\n",
        "    return best_param, best_score"
      ],
      "metadata": {
        "id": "x-qkw18dEHmk"
      },
      "id": "x-qkw18dEHmk",
      "execution_count": 61,
      "outputs": []
    },
    {
      "cell_type": "markdown",
      "id": "a23cca8d-ab8e-40f3-b8fd-4a846e10f515",
      "metadata": {
        "id": "a23cca8d-ab8e-40f3-b8fd-4a846e10f515"
      },
      "source": [
        "## Backtest the strategy"
      ]
    },
    {
      "cell_type": "code",
      "source": [
        "train_period = 500\n",
        "test_period = 100\n",
        "short_window_range = range(10, 100, 10)\n",
        "long_window_range = range(100, 300, 10)\n",
        "\n",
        "best_parameters, best_sharp = walk_forward_testing(historical_data, short_window_range, long_window_range, train_period, test_period)\n",
        "\n",
        "# Output the best parameters for future prediction\n",
        "print(f'best short window = {best_parameters[0]}, best long window = {best_parameters[1]}, best sharp ratio = {best_sharp}')"
      ],
      "metadata": {
        "id": "nXccN7_GM5Or",
        "colab": {
          "base_uri": "https://localhost:8080/"
        },
        "outputId": "0fd16a1b-3e86-4acc-a52a-71d1e0c25fca"
      },
      "id": "nXccN7_GM5Or",
      "execution_count": 63,
      "outputs": [
        {
          "output_type": "stream",
          "name": "stdout",
          "text": [
            "best short window = 90, best long window = 160, best sharp ratio = 0.20171600738685616\n"
          ]
        }
      ]
    },
    {
      "cell_type": "markdown",
      "id": "c23615ae-2649-4d30-8eb9-a03926ef7fba",
      "metadata": {
        "id": "c23615ae-2649-4d30-8eb9-a03926ef7fba"
      },
      "source": [
        "# Live paper trading"
      ]
    },
    {
      "cell_type": "code",
      "execution_count": null,
      "id": "85c30694-4a19-4a79-84d3-5af7711d4d61",
      "metadata": {
        "id": "85c30694-4a19-4a79-84d3-5af7711d4d61"
      },
      "outputs": [],
      "source": [
        "# Define parameters\n",
        "symbol = \"TSLA\"\n",
        "short_window = 50\n",
        "long_window = 200\n",
        "buy_qty = 10\n",
        "\n",
        "# Initialize performance tracking\n",
        "trade_log = []\n",
        "total_profit = 0\n",
        "total_trades = 0\n",
        "\n",
        "def log_trade(order, trade_type, price):\n",
        "    global total_profit, total_trades\n",
        "    if trade_type == 'buy':\n",
        "        trade_log.append({\n",
        "            'type': 'buy',\n",
        "            'price': price,\n",
        "            'timestamp': pd.Timestamp.now()\n",
        "        })\n",
        "    elif trade_type == 'sell':\n",
        "        last_trade = next((t for t in reversed(trade_log) if t['type'] == 'buy'), None)\n",
        "        if last_trade:\n",
        "            profit = price - last_trade['price']\n",
        "            total_profit += profit\n",
        "            total_trades += 1\n",
        "            trade_log.append({\n",
        "                'type': 'sell',\n",
        "                'price': price,\n",
        "                'timestamp': pd.Timestamp.now(),\n",
        "                'profit': profit\n",
        "            })\n",
        "            print(f\"Trade executed: Buy at {last_trade['price']}, Sell at {price}, Profit: {profit}\")\n",
        "\n",
        "def get_moving_averages():\n",
        "    request_params = StockBarsRequest(\n",
        "        symbol_or_symbols=[symbol],\n",
        "        timeframe=TimeFrame.Day,\n",
        "        start=\"2023-01-01 00:00:00\"\n",
        "    )\n",
        "    historical_data = client.get_stock_bars(request_params).df\n",
        "    historical_data['short_ma'] = historical_data['close'].rolling(window=short_window).mean()\n",
        "    historical_data['long_ma'] = historical_data['close'].rolling(window=long_window).mean()\n",
        "    return historical_data"
      ]
    },
    {
      "cell_type": "code",
      "execution_count": null,
      "id": "33f55f8b-2f49-42f9-a2d5-28c95ec1de5f",
      "metadata": {
        "id": "33f55f8b-2f49-42f9-a2d5-28c95ec1de5f"
      },
      "outputs": [],
      "source": [
        "def execute_trade():\n",
        "    historical_data_live = get_moving_averages()\n",
        "    last_row = historical_data_live.iloc[-1]\n",
        "    previous_row = historical_data_live.iloc[-2]\n",
        "\n",
        "    if last_row['short_ma'] > last_row['long_ma'] and previous_row['short_ma'] <= previous_row['long_ma']:\n",
        "        # Place a market buy order\n",
        "        market_order_data = MarketOrderRequest(\n",
        "            symbol=symbol,\n",
        "            qty=buy_qty,\n",
        "            side=OrderSide.BUY,\n",
        "            time_in_force=TimeInForce.GTC,\n",
        "        )\n",
        "        market_order = trading_client.submit_order(order_data=market_order_data)\n",
        "        buy_price = float(market_order.filled_avg_price)\n",
        "        print(f\"Market buy order placed at {buy_price}\")\n",
        "        log_trade(market_order, 'buy', buy_price)\n",
        "\n",
        "        # Set a stop-loss 5% below the buy price\n",
        "        stop_loss_price = buy_price * 0.95\n",
        "        stop_loss_order_data = StopLossOrderRequest(\n",
        "            symbol=symbol,\n",
        "            qty=buy_qty,\n",
        "            side=OrderSide.SELL,\n",
        "            stop_price=stop_loss_price,\n",
        "            time_in_force=TimeInForce.GTC\n",
        "        )\n",
        "        trading_client.submit_order(order_data=stop_loss_order_data)\n",
        "        print(f\"Stop-loss order placed at {stop_loss_price}\")\n",
        "\n",
        "    elif last_row['short_ma'] < last_row['long_ma'] and previous_row['short_ma'] >= previous_row['long_ma']:\n",
        "        # Place a market sell order (if in position)\n",
        "        market_order_data = MarketOrderRequest(\n",
        "            symbol=symbol,\n",
        "            qty=buy_qty,\n",
        "            side=OrderSide.SELL,\n",
        "            time_in_force=TimeInForce.GTC,\n",
        "        )\n",
        "        market_order = trading_client.submit_order(order_data=market_order_data)\n",
        "        sell_price = float(market_order.filled_avg_price)\n",
        "        print(f\"Market sell order placed at {sell_price}\")\n",
        "        log_trade(market_order, 'sell', sell_price)"
      ]
    },
    {
      "cell_type": "code",
      "execution_count": null,
      "id": "518e73d1-cd5b-4576-9492-e71f0995b362",
      "metadata": {
        "id": "518e73d1-cd5b-4576-9492-e71f0995b362"
      },
      "outputs": [],
      "source": [
        "# Monitor live price updates and adjust positions\n",
        "while True:\n",
        "    try:\n",
        "        execute_trade()\n",
        "        # Print performance metrics\n",
        "        print(f\"Total Trades: {total_trades}, Total Profit: {total_profit}\")\n",
        "        sleep(60)  # Wait 1 minute before the next iteration\n",
        "    except Exception as e:\n",
        "        print(f\"An error occurred: {e}\")"
      ]
    },
    {
      "cell_type": "code",
      "execution_count": null,
      "id": "7ef4a80c-12fd-461f-8749-a337ed855964",
      "metadata": {
        "id": "7ef4a80c-12fd-461f-8749-a337ed855964"
      },
      "outputs": [],
      "source": []
    }
  ],
  "metadata": {
    "kernelspec": {
      "display_name": "Python 3 (ipykernel)",
      "language": "python",
      "name": "python3"
    },
    "language_info": {
      "codemirror_mode": {
        "name": "ipython",
        "version": 3
      },
      "file_extension": ".py",
      "mimetype": "text/x-python",
      "name": "python",
      "nbconvert_exporter": "python",
      "pygments_lexer": "ipython3",
      "version": "3.9.6"
    },
    "colab": {
      "provenance": []
    }
  },
  "nbformat": 4,
  "nbformat_minor": 5
}